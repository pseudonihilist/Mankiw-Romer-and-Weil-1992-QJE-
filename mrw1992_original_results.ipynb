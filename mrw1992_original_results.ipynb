{
  "cells": [
    {
      "cell_type": "markdown",
      "metadata": {
        "id": "view-in-github",
        "colab_type": "text"
      },
      "source": [
        "<a href=\"https://colab.research.google.com/github/pseudonihilist/Mankiw-Romer-and-Weil-1992-QJE-/blob/main/mrw1992_original_results.ipynb\" target=\"_parent\"><img src=\"https://colab.research.google.com/assets/colab-badge.svg\" alt=\"Open In Colab\"/></a>"
      ]
    },
    {
      "cell_type": "code",
      "execution_count": null,
      "metadata": {
        "id": "jGt9jz8v2FDR"
      },
      "outputs": [],
      "source": [
        "import numpy as np\n",
        "import pandas as pd\n",
        "import statsmodels.api as sm\n",
        "from statsmodels.iolib.summary2 import summary_col\n",
        "import matplotlib.pyplot as plt\n",
        "import os"
      ]
    },
    {
      "cell_type": "code",
      "execution_count": null,
      "metadata": {
        "id": "tl1blQ3a2FDT",
        "outputId": "9280dedb-6c0a-46ec-a1fd-ebbac39fff52"
      },
      "outputs": [
        {
          "data": {
            "text/html": [
              "<div>\n",
              "<style scoped>\n",
              "    .dataframe tbody tr th:only-of-type {\n",
              "        vertical-align: middle;\n",
              "    }\n",
              "\n",
              "    .dataframe tbody tr th {\n",
              "        vertical-align: top;\n",
              "    }\n",
              "\n",
              "    .dataframe thead th {\n",
              "        text-align: right;\n",
              "    }\n",
              "</style>\n",
              "<table border=\"1\" class=\"dataframe\">\n",
              "  <thead>\n",
              "    <tr style=\"text-align: right;\">\n",
              "      <th></th>\n",
              "      <th>number</th>\n",
              "      <th>country</th>\n",
              "      <th>n</th>\n",
              "      <th>i</th>\n",
              "      <th>o</th>\n",
              "      <th>rgdpw60</th>\n",
              "      <th>rgdpw85</th>\n",
              "      <th>gdpgrowth</th>\n",
              "      <th>popgrowth</th>\n",
              "      <th>i_y</th>\n",
              "      <th>school</th>\n",
              "    </tr>\n",
              "  </thead>\n",
              "  <tbody>\n",
              "    <tr>\n",
              "      <th>0</th>\n",
              "      <td>1</td>\n",
              "      <td>Algeria</td>\n",
              "      <td>1</td>\n",
              "      <td>1</td>\n",
              "      <td>0</td>\n",
              "      <td>2485.0</td>\n",
              "      <td>4371.0</td>\n",
              "      <td>4.8</td>\n",
              "      <td>2.6</td>\n",
              "      <td>24.1</td>\n",
              "      <td>4.5</td>\n",
              "    </tr>\n",
              "    <tr>\n",
              "      <th>1</th>\n",
              "      <td>2</td>\n",
              "      <td>Angola</td>\n",
              "      <td>1</td>\n",
              "      <td>0</td>\n",
              "      <td>0</td>\n",
              "      <td>1588.0</td>\n",
              "      <td>1171.0</td>\n",
              "      <td>0.8</td>\n",
              "      <td>2.1</td>\n",
              "      <td>5.8</td>\n",
              "      <td>1.8</td>\n",
              "    </tr>\n",
              "    <tr>\n",
              "      <th>2</th>\n",
              "      <td>3</td>\n",
              "      <td>Benin</td>\n",
              "      <td>1</td>\n",
              "      <td>0</td>\n",
              "      <td>0</td>\n",
              "      <td>1116.0</td>\n",
              "      <td>1071.0</td>\n",
              "      <td>2.2</td>\n",
              "      <td>2.4</td>\n",
              "      <td>10.8</td>\n",
              "      <td>1.8</td>\n",
              "    </tr>\n",
              "    <tr>\n",
              "      <th>3</th>\n",
              "      <td>4</td>\n",
              "      <td>Botswana</td>\n",
              "      <td>1</td>\n",
              "      <td>1</td>\n",
              "      <td>0</td>\n",
              "      <td>959.0</td>\n",
              "      <td>3671.0</td>\n",
              "      <td>8.6</td>\n",
              "      <td>3.2</td>\n",
              "      <td>28.3</td>\n",
              "      <td>2.9</td>\n",
              "    </tr>\n",
              "    <tr>\n",
              "      <th>4</th>\n",
              "      <td>5</td>\n",
              "      <td>Burkina Faso</td>\n",
              "      <td>1</td>\n",
              "      <td>0</td>\n",
              "      <td>0</td>\n",
              "      <td>529.0</td>\n",
              "      <td>857.0</td>\n",
              "      <td>2.9</td>\n",
              "      <td>0.9</td>\n",
              "      <td>12.7</td>\n",
              "      <td>0.4</td>\n",
              "    </tr>\n",
              "    <tr>\n",
              "      <th>...</th>\n",
              "      <td>...</td>\n",
              "      <td>...</td>\n",
              "      <td>...</td>\n",
              "      <td>...</td>\n",
              "      <td>...</td>\n",
              "      <td>...</td>\n",
              "      <td>...</td>\n",
              "      <td>...</td>\n",
              "      <td>...</td>\n",
              "      <td>...</td>\n",
              "      <td>...</td>\n",
              "    </tr>\n",
              "    <tr>\n",
              "      <th>116</th>\n",
              "      <td>117</td>\n",
              "      <td>Australia</td>\n",
              "      <td>1</td>\n",
              "      <td>1</td>\n",
              "      <td>1</td>\n",
              "      <td>8440.0</td>\n",
              "      <td>13409.0</td>\n",
              "      <td>3.8</td>\n",
              "      <td>2.0</td>\n",
              "      <td>31.5</td>\n",
              "      <td>9.8</td>\n",
              "    </tr>\n",
              "    <tr>\n",
              "      <th>117</th>\n",
              "      <td>118</td>\n",
              "      <td>Fiji</td>\n",
              "      <td>0</td>\n",
              "      <td>0</td>\n",
              "      <td>0</td>\n",
              "      <td>3634.0</td>\n",
              "      <td>NaN</td>\n",
              "      <td>4.2</td>\n",
              "      <td>NaN</td>\n",
              "      <td>20.6</td>\n",
              "      <td>8.1</td>\n",
              "    </tr>\n",
              "    <tr>\n",
              "      <th>118</th>\n",
              "      <td>119</td>\n",
              "      <td>Indonesia</td>\n",
              "      <td>1</td>\n",
              "      <td>1</td>\n",
              "      <td>0</td>\n",
              "      <td>879.0</td>\n",
              "      <td>2159.0</td>\n",
              "      <td>5.5</td>\n",
              "      <td>1.9</td>\n",
              "      <td>13.9</td>\n",
              "      <td>4.1</td>\n",
              "    </tr>\n",
              "    <tr>\n",
              "      <th>119</th>\n",
              "      <td>120</td>\n",
              "      <td>New Zealand</td>\n",
              "      <td>1</td>\n",
              "      <td>1</td>\n",
              "      <td>1</td>\n",
              "      <td>9523.0</td>\n",
              "      <td>12308.0</td>\n",
              "      <td>2.7</td>\n",
              "      <td>1.7</td>\n",
              "      <td>22.5</td>\n",
              "      <td>11.9</td>\n",
              "    </tr>\n",
              "    <tr>\n",
              "      <th>120</th>\n",
              "      <td>121</td>\n",
              "      <td>Papua New Guinea</td>\n",
              "      <td>1</td>\n",
              "      <td>0</td>\n",
              "      <td>0</td>\n",
              "      <td>1781.0</td>\n",
              "      <td>2544.0</td>\n",
              "      <td>3.5</td>\n",
              "      <td>2.1</td>\n",
              "      <td>16.2</td>\n",
              "      <td>1.5</td>\n",
              "    </tr>\n",
              "  </tbody>\n",
              "</table>\n",
              "<p>121 rows × 11 columns</p>\n",
              "</div>"
            ],
            "text/plain": [
              "     number           country  n  i  o  rgdpw60  rgdpw85  gdpgrowth  \\\n",
              "0         1           Algeria  1  1  0   2485.0   4371.0        4.8   \n",
              "1         2            Angola  1  0  0   1588.0   1171.0        0.8   \n",
              "2         3             Benin  1  0  0   1116.0   1071.0        2.2   \n",
              "3         4          Botswana  1  1  0    959.0   3671.0        8.6   \n",
              "4         5      Burkina Faso  1  0  0    529.0    857.0        2.9   \n",
              "..      ...               ... .. .. ..      ...      ...        ...   \n",
              "116     117         Australia  1  1  1   8440.0  13409.0        3.8   \n",
              "117     118              Fiji  0  0  0   3634.0      NaN        4.2   \n",
              "118     119         Indonesia  1  1  0    879.0   2159.0        5.5   \n",
              "119     120       New Zealand  1  1  1   9523.0  12308.0        2.7   \n",
              "120     121  Papua New Guinea  1  0  0   1781.0   2544.0        3.5   \n",
              "\n",
              "     popgrowth   i_y  school  \n",
              "0          2.6  24.1     4.5  \n",
              "1          2.1   5.8     1.8  \n",
              "2          2.4  10.8     1.8  \n",
              "3          3.2  28.3     2.9  \n",
              "4          0.9  12.7     0.4  \n",
              "..         ...   ...     ...  \n",
              "116        2.0  31.5     9.8  \n",
              "117        NaN  20.6     8.1  \n",
              "118        1.9  13.9     4.1  \n",
              "119        1.7  22.5    11.9  \n",
              "120        2.1  16.2     1.5  \n",
              "\n",
              "[121 rows x 11 columns]"
            ]
          },
          "execution_count": 25,
          "metadata": {},
          "output_type": "execute_result"
        }
      ],
      "source": [
        "data = pd.read_excel(\"mrw_data.xlsx\")\n",
        "data"
      ]
    },
    {
      "cell_type": "markdown",
      "metadata": {
        "id": "HsNLU0eS2FDU"
      },
      "source": [
        "# Solow Model\n",
        "\n",
        "The model starts with a Cobb-Douglas production function:\n",
        "\n",
        "\\begin{align*}\n",
        "Y(t) = K(t)^{\\alpha}(A(t)L(t))^{1 - \\alpha}\n",
        "\\end{align*}\n",
        "\n",
        "The evolution of capital is determined by the following equation:\n",
        "\n",
        "\\begin{align*}\n",
        "\\dot{k(t)} = sk(t)^{\\alpha} - (n - g - \\delta)k(t)\n",
        "\\end{align*}\n",
        "\n",
        "From this we can get the steady state level of $k(t)$ by equating $\\dot{k(t)}$ to 0.  \n",
        "We then get a simple formula to determine the steady state $k(t)^*$\n",
        "\n",
        "\\begin{align*}\n",
        "k(t)^* = \\left(\\frac{s}{n + g + \\delta}\\right)^{1/(1 - \\alpha)}\n",
        "\\end{align*}\n",
        "\n",
        "We can take logs of the production function and substitute in $\\dot{k(t)}$ to find the equation we want to estimate, which is the steady state level of output. We also add an initial $A(0)$ which we take as equal to $a + \\epsilon$ where $a$ is a constant and $\\epsilon$ is a country specific shock\n",
        "\n",
        "\\begin{align*}\n",
        "log(Y/L) = a + \\frac{\\alpha}{(1 - \\alpha)}log(s) - \\frac{\\alpha}{(1 - \\alpha)}log(n + g + \\delta) + \\epsilon\n",
        "\\end{align*}\n",
        "\n",
        "where:\n",
        "a is the constant in the assumed $log(A)$ equation  \n",
        "$\\epsilon$ is the country shock for $log(a)$  \n",
        "$\\alpha$ is the share of capital  \n",
        "s is the exogenous savings rate (measured with average share of investment in GDP)  \n",
        "n is the exogenous population growth rate  \n",
        "g is the exogenous tfp growth rate  \n",
        "$\\delta$ is the depriciation rate of capital  \n",
        "\n",
        "This corresponds to equation 7 in the paper"
      ]
    },
    {
      "cell_type": "code",
      "execution_count": null,
      "metadata": {
        "id": "JVUGPaMr2FDV"
      },
      "outputs": [],
      "source": [
        "data['lschool'] = np.log(data['school'])\n",
        "data['lngd'] = np.log(data['popgrowth']/100 + 0.05)\n",
        "data['ls'] = np.log(data['i_y']/100)\n",
        "data['const'] = 1\n",
        "data['ls_lngd'] = data['ls'] - data['lngd']\n",
        "data['lsch_ngd'] = data['lschool'] - data['lngd']\n",
        "data['ly60'] = np.log(data['rgdpw60'])\n",
        "data['ly85'] = np.log(data['rgdpw85'])\n",
        "data['linv'] = np.log(data['i_y'])\n",
        "\n",
        "#subsetting data\n",
        "data_reg = data.loc[data['n'] == 1, :] #no oil\n",
        "data_d = data_reg[data_reg.i == 1] #pop in 1960 less than 1 mil\n",
        "data_oecd = data_reg[data_reg.o == 1] #oecd"
      ]
    },
    {
      "cell_type": "markdown",
      "metadata": {
        "id": "gqA8PZMn2FDW"
      },
      "source": [
        "### Unrestricted Model"
      ]
    },
    {
      "cell_type": "code",
      "execution_count": null,
      "metadata": {
        "id": "7FupL6Yt2FDW"
      },
      "outputs": [],
      "source": [
        "#no restrictions on coefficients here\n",
        "reg1 = sm.OLS(endog = data_reg['ly85'],\n",
        "              exog = data_reg[['const', 'ls', 'lngd']],\n",
        "             missing = 'drop').fit()\n",
        "\n",
        "reg2 = sm.OLS(endog = data_d['ly85'],\n",
        "             exog = data_d[['const', 'ls', 'lngd']],\n",
        "             missing = 'drop').fit()\n",
        "\n",
        "reg3 = sm.OLS(endog = data_oecd['ly85'],\n",
        "             exog = data_oecd[['const', 'ls', 'lngd']],\n",
        "             missing = 'drop').fit()"
      ]
    },
    {
      "cell_type": "markdown",
      "metadata": {
        "id": "VMysWoOC2FDW"
      },
      "source": [
        "### Restricted Model"
      ]
    },
    {
      "cell_type": "code",
      "execution_count": null,
      "metadata": {
        "id": "THCAxOSs2FDW"
      },
      "outputs": [],
      "source": [
        "#coeff(log(savings)) = -coeff(log(n+g+d))\n",
        "regr1 = sm.OLS(endog = data_reg['ly85'],\n",
        "             exog = data_reg[['const', 'ls_lngd']],\n",
        "             missing = 'drop').fit()\n",
        "\n",
        "regr2 = sm.OLS(endog = data_d['ly85'],\n",
        "             exog = data_d[['const', 'ls_lngd']],\n",
        "             missing = 'drop').fit()\n",
        "\n",
        "regr3 = sm.OLS(endog = data_oecd['ly85'],\n",
        "             exog = data_oecd[['const', 'ls_lngd']],\n",
        "             missing = 'drop').fit()"
      ]
    },
    {
      "cell_type": "markdown",
      "metadata": {
        "id": "HL5tPYQF2FDW"
      },
      "source": [
        "###  Table 1"
      ]
    },
    {
      "cell_type": "code",
      "execution_count": null,
      "metadata": {
        "id": "-32Yf-nm2FDX",
        "outputId": "1293e53d-7c14-4d7c-8e54-5f3b9ecaa714"
      },
      "outputs": [
        {
          "name": "stdout",
          "output_type": "stream",
          "text": [
            "          Unrestricted Regressions\n",
            "============================================\n",
            "               Non-Oil  Intermediate   OECD \n",
            "--------------------------------------------\n",
            "const          5.43***  5.35***      8.02***\n",
            "               (1.58)   (1.54)       (2.52) \n",
            "ls             1.42***  1.32***      0.50   \n",
            "               (0.14)   (0.17)       (0.43) \n",
            "lngd           -1.99*** -2.02***     -0.74  \n",
            "               (0.56)   (0.53)       (0.85) \n",
            "R-squared      0.60     0.60         0.11   \n",
            "R-squared Adj. 0.59     0.59         0.01   \n",
            "R^2            0.5925   0.5878       0.0118 \n",
            "N              98.0000  75.0000      22.0000\n",
            "s.e.e.         0.6891   0.6106       0.3774 \n",
            "Implied α      0.59     0.57         0.33   \n",
            "============================================\n",
            "Standard errors in parentheses.\n",
            "* p<.1, ** p<.05, ***p<.01\n",
            "\n",
            "          Restricted Regressions\n",
            "===========================================\n",
            "               Non-Oil Intermediate   OECD \n",
            "-------------------------------------------\n",
            "const          6.87*** 7.09***      8.62***\n",
            "               (0.12)  (0.15)       (0.53) \n",
            "ls_lngd        1.49*** 1.43***      0.55   \n",
            "               (0.12)  (0.14)       (0.37) \n",
            "R-squared      0.60    0.59         0.10   \n",
            "R-squared Adj. 0.59    0.59         0.06   \n",
            "R^2            0.5932  0.5861       0.0582 \n",
            "N              98.0000 75.0000      22.0000\n",
            "s.e.e.         0.6885  0.6119       0.3684 \n",
            "Implied α      0.60    0.59         0.36   \n",
            "===========================================\n",
            "Standard errors in parentheses.\n",
            "* p<.1, ** p<.05, ***p<.01\n"
          ]
        }
      ],
      "source": [
        "info_dict = {'R^2': lambda x: x.rsquared_adj,\n",
        "            'N': lambda x: x.nobs,\n",
        "            's.e.e.': lambda x: np.sqrt(x.scale),\n",
        "            'Implied α': lambda x: f\"{x.params[1]/(1 + x.params[1]):.2f}\"}\n",
        "\n",
        "results_unres = summary_col(results = [reg1, reg2, reg3],\n",
        "                           float_format='%0.2f',\n",
        "                           stars = True,\n",
        "                           model_names = ['Non-Oil',\n",
        "                                         'Intermediate',\n",
        "                                         'OECD'],\n",
        "                           info_dict = info_dict,\n",
        "                           regressor_order = ['const',\n",
        "                                             'ls',\n",
        "                                             'lngd'])\n",
        "\n",
        "\n",
        "results_res = summary_col(results = [regr1, regr2, regr3],\n",
        "                           float_format='%0.2f',\n",
        "                           stars = True,\n",
        "                           model_names = ['Non-Oil',\n",
        "                                         'Intermediate',\n",
        "                                         'OECD'],\n",
        "                           info_dict = info_dict,\n",
        "                           regressor_order = ['const',\n",
        "                                             'ls',\n",
        "                                             'ls_lngd'])\n",
        "\n",
        "\n",
        "results_res.add_title('Restricted Regressions')\n",
        "results_unres.add_title('Unrestricted Regressions')\n",
        "print(results_unres)\n",
        "print('')\n",
        "print(results_res)"
      ]
    },
    {
      "cell_type": "markdown",
      "metadata": {
        "id": "RjuGPALa2FDX"
      },
      "source": [
        "### Interpretting\n",
        "\n",
        "Lets not get starry eyed with the regression tables too quickly.  \n",
        "\n",
        "MRW take these regression tables with cautious optimism. While we see the direction and significance in the variables we want in the way we expect - i.e. savings positively determines steady state level of output per capita, and $(n + g + \\delta)$ negatively affects output per capita. Also putting a restriction on the coefficient $(n + g + \\delta)$ doesn't really change our results too much. \n",
        "Also, the model seems to explain a lot of the cross country variation in output per capita ($R^2$ is fairly high). But this shouldn't be taken as evidence for the Solow model. \n",
        "\n",
        "The big but here is that the implied $\\alpha$ level isn't consistent with the empirical level of capital share, according to which the capital share should've been around 1/3.  \n",
        "\n",
        "This basically amounts to these regressions being very weak evidence for the Solow model. If we think of all the things the Solow model says, this regression only says 1 thing: savings, population growth and depriciation are highly correlated to GDP, which is consistent with an entire class of growth models. \n",
        "\n",
        "Because of this, MRW augment the solow model"
      ]
    },
    {
      "cell_type": "markdown",
      "metadata": {
        "id": "JIvEEUDb2FDY"
      },
      "source": [
        "# Augmenting the Solow Model\n",
        "\n",
        "MRW Augment the Solow model with human capital. \n",
        "\n",
        "With that, the Cobb-Douglas production function becomes:\n",
        "\\begin{align*}\n",
        "Y(t) = K(t)^{\\alpha}H(t)^{\\beta}(A(t)L(t))^{1 - \\alpha - \\beta}\n",
        "\\end{align*}\n",
        "\n",
        "Evolution of the economy is determined by:\n",
        "\n",
        "\\begin{align*}\n",
        "\\dot{k(t)} = s_{k}y(t) - (n + g +\\delta)k(t)\\\\\n",
        "\\dot{h(t)} = s_{h}y(t) - (n + g +\\delta)h(t)\n",
        "\\end{align*}\n",
        "\n",
        "We can use these to derive the steady state values for k and h by setting $\\dot{k(t)}$ and $\\dot{h(t)}$ to 0.  \n",
        "Using those we can arrive at the equation that we want to estimate.\n",
        "\n",
        "\\begin{align*}\n",
        "log(Y(t)/L(t)) = log(A(0)) + gt + \\frac{\\alpha}{1 - \\alpha - \\beta}log(s_k) - \\frac{\\alpha + \\beta}{1 - \\alpha - \\beta}log(n + g + \\delta) + \\frac{\\beta}{1 - \\alpha -\\beta}log(s_h)\n",
        "\\end{align*}\n",
        "\n",
        "This is very similar to the standard solow model equation we estimated before except for the last term. We can think of the last term being in the error term in our previous specification. This would'nt be a problem by itself but since $s_h$ is determined by $s_k$ and $n$, this would've biased our coefficients in the previous specification"
      ]
    },
    {
      "cell_type": "markdown",
      "metadata": {
        "id": "CS2hIUCf2FDY"
      },
      "source": [
        "Unrestricted Model"
      ]
    },
    {
      "cell_type": "code",
      "execution_count": null,
      "metadata": {
        "id": "T-rRQ9pB2FDY"
      },
      "outputs": [],
      "source": [
        "#no restrictions on coefficients here\n",
        "regh1 = sm.OLS(endog = data_reg['ly85'],\n",
        "             exog = data_reg[['const', 'ls', 'lngd', 'lschool']],\n",
        "             missing = 'drop').fit()\n",
        "\n",
        "regh2 = sm.OLS(endog = data_d['ly85'],\n",
        "             exog = data_d[['const', 'ls', 'lngd', 'lschool']],\n",
        "             missing = 'drop').fit()\n",
        "\n",
        "regh3 = sm.OLS(endog = data_oecd['ly85'],\n",
        "             exog = data_oecd[['const', 'ls', 'lngd', 'lschool']],\n",
        "             missing = 'drop').fit()"
      ]
    },
    {
      "cell_type": "markdown",
      "metadata": {
        "id": "7z482DYa2FDY"
      },
      "source": [
        "### Restricted Model"
      ]
    },
    {
      "cell_type": "code",
      "execution_count": null,
      "metadata": {
        "id": "mN4AJ8pi2FDY"
      },
      "outputs": [],
      "source": [
        "#coeff(log(savings)) = -coeff(log(n+g+d))\n",
        "reghr1 = sm.OLS(endog = data_reg['ly85'],\n",
        "             exog = data_reg[['const', 'ls_lngd', 'lsch_ngd']],\n",
        "             missing = 'drop').fit()\n",
        "\n",
        "reghr2 = sm.OLS(endog = data_d['ly85'],\n",
        "             exog = data_d[['const', 'ls_lngd', 'lsch_ngd']],\n",
        "             missing = 'drop').fit()\n",
        "\n",
        "reghr3 = sm.OLS(endog = data_oecd['ly85'],\n",
        "             exog = data_oecd[['const', 'ls_lngd', 'lsch_ngd']],\n",
        "             missing = 'drop').fit()"
      ]
    },
    {
      "cell_type": "code",
      "execution_count": null,
      "metadata": {
        "id": "XHvRrt2-2FDY",
        "outputId": "ce054851-8e44-452f-d879-f1599aa50343"
      },
      "outputs": [
        {
          "name": "stdout",
          "output_type": "stream",
          "text": [
            "          Unrestricted Regressions\n",
            "============================================\n",
            "               Non-Oil  Intermediate   OECD \n",
            "--------------------------------------------\n",
            "const          3.83***  4.43***      5.10*  \n",
            "               (1.18)   (1.16)       (2.47) \n",
            "ls             0.70***  0.70***      0.28   \n",
            "               (0.13)   (0.15)       (0.39) \n",
            "lngd           -1.75*** -1.50***     -1.08  \n",
            "               (0.42)   (0.40)       (0.76) \n",
            "lschool        0.65***  0.73***      0.77** \n",
            "               (0.07)   (0.10)       (0.29) \n",
            "R-squared      0.79     0.78         0.35   \n",
            "R-squared Adj. 0.78     0.77         0.24   \n",
            "R^2            0.7788   0.7714       0.2444 \n",
            "N              98.0000  75.0000      22.0000\n",
            "s.e.e.         0.5077   0.4547       0.3300 \n",
            "Implied α      0.30     0.29         0.14   \n",
            "Implied β      0.28     0.30         0.38   \n",
            "============================================\n",
            "Standard errors in parentheses.\n",
            "* p<.1, ** p<.05, ***p<.01\n",
            "\n",
            "          Restricted Regressions\n",
            "===========================================\n",
            "               Non-Oil Intermediate   OECD \n",
            "-------------------------------------------\n",
            "const          4.83*** 4.59***      5.18***\n",
            "               (0.24)  (0.34)       (1.36) \n",
            "ls_lngd        0.74*** 0.71***      0.28   \n",
            "               (0.12)  (0.14)       (0.33) \n",
            "lsch_ngd       0.66*** 0.73***      0.77** \n",
            "               (0.07)  (0.09)       (0.28) \n",
            "R-squared      0.78    0.78         0.35   \n",
            "R-squared Adj. 0.78    0.77         0.28   \n",
            "R^2            0.7794  0.7745       0.2841 \n",
            "N              98.0000 75.0000      22.0000\n",
            "s.e.e.         0.5070  0.4516       0.3212 \n",
            "Implied α      0.31    0.29         0.14   \n",
            "Implied β      0.27    0.30         0.37   \n",
            "===========================================\n",
            "Standard errors in parentheses.\n",
            "* p<.1, ** p<.05, ***p<.01\n"
          ]
        }
      ],
      "source": [
        "info_dictu = {'R^2': lambda x: x.rsquared_adj,\n",
        "            'N': lambda x: x.nobs,\n",
        "            's.e.e.': lambda x: np.sqrt(x.scale),\n",
        "            'Implied α': lambda x: f\"{x.params[1]/(1 + x.params[1] + x.params[3]):.2f}\",\n",
        "            'Implied β': lambda x: f\"{x.params[3]/(1 + x.params[1] + x.params[3]):.2f}\"}\n",
        "\n",
        "info_dictr = {'R^2': lambda x: x.rsquared_adj,\n",
        "            'N': lambda x: x.nobs,\n",
        "            's.e.e.': lambda x: np.sqrt(x.scale),\n",
        "            'Implied α': lambda x: f\"{x.params[1]/(1 + x.params[1] + x.params[2]):.2f}\",\n",
        "            'Implied β': lambda x: f\"{x.params[2]/(1 + x.params[1] + x.params[2]):.2f}\"}\n",
        "\n",
        "results_unres = summary_col(results = [regh1, regh2, regh3],\n",
        "                           float_format='%0.2f',\n",
        "                           stars = True,\n",
        "                           model_names = ['Non-Oil',\n",
        "                                         'Intermediate',\n",
        "                                         'OECD'],\n",
        "                           info_dict = info_dictu,\n",
        "                           regressor_order = ['const',\n",
        "                                             'ls',\n",
        "                                             'lngd',\n",
        "                                             'lschool'])\n",
        "\n",
        "\n",
        "results_res = summary_col(results = [reghr1, reghr2, reghr3],\n",
        "                           float_format='%0.2f',\n",
        "                           stars = True,\n",
        "                           model_names = ['Non-Oil',\n",
        "                                         'Intermediate',\n",
        "                                         'OECD'],\n",
        "                           info_dict = info_dictr,\n",
        "                           regressor_order = ['const',\n",
        "                                             'ls',\n",
        "                                             'ls_lngd',\n",
        "                                             'lsch_ngd'])\n",
        "\n",
        "\n",
        "results_res.add_title('Restricted Regressions')\n",
        "results_unres.add_title('Unrestricted Regressions')\n",
        "print(results_unres)\n",
        "print('')\n",
        "print(results_res)"
      ]
    },
    {
      "cell_type": "markdown",
      "metadata": {
        "id": "VMkpPIgA2FDZ"
      },
      "source": [
        "### Interpretation and Evaluation\n",
        "\n",
        "The $\\alpha$ and $\\beta$ implied from the regressions are much closer to what we would expect. So adding human capital seems to have improved the Solow model's performance. $R^2$ also seems to be much higher.\n",
        "\n",
        "There's a big elephant in the room which we should address at this point. Endogeneity.\n",
        "\n",
        "MRW really take no worry of endogeneity issues in these regressions. Endogeneity comes in 3 flavours:\n",
        "1. Ommitted variable bias: Is the error term in the equations we estimated orthogonal to the exogenous regressors and the outcome? Probably not. For example, level of institutions in a country would be correlated to the savings rate and the GDP (possible correlated positively with both). This would mean that we have estimates with an upward bias\n",
        "2. Reverse Causality: Is it likely that gdp affects savings? Yes. We can imagine that higher gdp would increase or decrease the savings rate. Either way, this again implies a bias in our estimates.\n",
        "3. Measurement Error: Is it likely that one or more of our RHS variables are mismeasuring what we actually want to measure. Take for instance human-capital. We assumed $s_h$ to be our proxy for it. But if there is measurement error there, that error will be present in our residual in the regression, which will then be correlated with our RHS variable thus biasing the estimates.\n",
        "\n",
        "It almost seems circular to follow these regressions to conclude that the Solow model is right. If we take these regressions as correctly specified, we are basically assuming all our righthand-side variables to be exogenous, which is already half way there to the assumptions of Solow, where we take savings and growth rates as exogenous.\n",
        "\n",
        "It will also be interesting to see how sensitive these results are to what we use for human capital. For example, it isn't clear why we should restrict human-capital to be restricted to the share of the working-age population in secondary school.\n",
        "\n",
        "That is not to say that these regressions are useless. Even if the argument is a bit circular, the fact that the magnitudes of $\\alpha$ and $\\beta$ turn out as predicted is still impressive. But it seems more predictive than causal"
      ]
    },
    {
      "cell_type": "markdown",
      "metadata": {
        "id": "XiqQ7KJg2FDZ"
      },
      "source": [
        "## Solow Rate of Convergence\n",
        "\n",
        "Now we move on to estimating the rate of convergence in a Solow model.\n",
        "\n",
        "If we start out with our base cobb douglas equation for output per worker, try to solve for the relative growth rate of y, on the way applying some taylor approxiamtions and stuff we know from differential equations, we get a linear equation that we can estimate to give us an idea of the rate of convergence:\n",
        "\n",
        "\\begin{align}\n",
        "\\ln(y(t)) - \\ln(y(0)) = (1 - e^{-\\lambda t})\\left(\\frac{\\alpha}{1 - \\alpha - \\beta}\\right)\\ln(s_k) + (1 - e^{-\\lambda t})\\left(\\frac{\\beta}{1 - \\alpha - \\beta}\\right)\\ln(s_h) - (1 - e^{-\\lambda t})\\left(\\frac{\\alpha + \\beta}{1 - \\alpha + \\beta}\\right)\\ln(n + g+ \\delta) - (1 - e^{-\\lambda t})\\ln(y(0))\n",
        "\\end{align}\n",
        "\n",
        "First we will go through a much more basic regression: \n",
        "\\begin{align}\n",
        "\\ln(y(t)) - \\ln(y(0)) = \\beta_0 + \\beta_1 \\ln(y(0)) + \\epsilon\n",
        "\\end{align}"
      ]
    },
    {
      "cell_type": "code",
      "execution_count": null,
      "metadata": {
        "id": "Zso7ti0j2FDZ"
      },
      "outputs": [],
      "source": [
        "regcon1 = sm.OLS(endog = (data_reg['ly85'] - data_reg['ly60']),\n",
        "               exog = data_reg[['const', 'ly60']],\n",
        "               missing = 'drop').fit()\n",
        "\n",
        "regcon2 = sm.OLS(endog = (data_d['ly85'] - data_d['ly60']),\n",
        "               exog = data_d[['const', 'ly60']],\n",
        "               missing = 'drop').fit()\n",
        "\n",
        "regcon3 = sm.OLS(endog = (data_oecd['ly85'] - data_oecd['ly60']),\n",
        "               exog = data_oecd[['const', 'ly60']],\n",
        "               missing = 'drop').fit()"
      ]
    },
    {
      "cell_type": "code",
      "execution_count": null,
      "metadata": {
        "id": "Yz10KqY62FDZ",
        "outputId": "86bb34ff-bd50-451e-f71b-44ec09d1284f"
      },
      "outputs": [
        {
          "name": "stdout",
          "output_type": "stream",
          "text": [
            "       Tests for Unconditional Convergence\n",
            "=================================================\n",
            "                Non-Oil  Intermediate     OECD   \n",
            "-------------------------------------------------\n",
            "const          -0.26658  0.58752      3.68629*** \n",
            "               (0.37960) (0.43293)    (0.68490)  \n",
            "ly60           0.09431*  -0.00424     -0.34110***\n",
            "               (0.04962) (0.05484)    (0.07852)  \n",
            "R-squared      0.03627   0.00008      0.48545    \n",
            "R-squared Adj. 0.02623   -0.01362     0.45973    \n",
            "R^2            0.0262    -0.0136      0.4597     \n",
            "N              98.0000   75.0000      22.0000    \n",
            "s.e.e.         0.4405    0.4077       0.1830     \n",
            "Implied λ      -0.00360  0.00017      0.01669    \n",
            "=================================================\n",
            "Standard errors in parentheses.\n",
            "* p<.1, ** p<.05, ***p<.01\n"
          ]
        }
      ],
      "source": [
        "info_dictroc = {'R^2': lambda x: x.rsquared_adj,\n",
        "            'N': lambda x: x.nobs,\n",
        "            's.e.e.': lambda x: np.sqrt(x.scale),\n",
        "            'Implied λ': lambda x: f\"{-np.log(x.params[1] + 1)/25:.5f}\"}\n",
        "\n",
        "table_roc = summary_col(results = [regcon1, regcon2, regcon3],\n",
        "                           float_format='%0.5f',\n",
        "                           stars = True,\n",
        "                           model_names = ['Non-Oil',\n",
        "                                         'Intermediate',\n",
        "                                         'OECD'],\n",
        "                           info_dict = info_dictroc,\n",
        "                           regressor_order = ['const',\n",
        "                                             'ly60'])\n",
        "\n",
        "table_roc.add_title('Tests for Unconditional Convergence')\n",
        "print(table_roc)"
      ]
    },
    {
      "cell_type": "code",
      "execution_count": null,
      "metadata": {
        "id": "B2h7twXZ2FDa"
      },
      "outputs": [],
      "source": [
        "regcon4 = sm.OLS(endog = (data_reg['ly85'] - data_reg['ly60']),\n",
        "               exog = data_reg[['const', 'ly60', 'ls', 'lngd']],\n",
        "               missing = 'drop').fit()\n",
        "\n",
        "regcon5 = sm.OLS(endog = (data_d['ly85'] - data_d['ly60']),\n",
        "               exog = data_d[['const', 'ly60', 'ls', 'lngd']],\n",
        "               missing = 'drop').fit()\n",
        "\n",
        "regcon6 = sm.OLS(endog = (data_oecd['ly85'] - data_oecd['ly60']),\n",
        "               exog = data_oecd[['const', 'ly60', 'ls', 'lngd']],\n",
        "               missing = 'drop').fit()\n",
        "\n",
        "\n",
        "\n",
        "regcon7 = sm.OLS(endog = (data_reg['ly85'] - data_reg['ly60']),\n",
        "               exog = data_reg[['const', 'ly60', 'ls', 'lngd', 'lschool']],\n",
        "               missing = 'drop').fit()\n",
        "\n",
        "regcon8 = sm.OLS(endog = (data_d['ly85'] - data_d['ly60']),\n",
        "               exog = data_d[['const', 'ly60', 'ls', 'lngd', 'lschool']],\n",
        "               missing = 'drop').fit()\n",
        "\n",
        "regcon9 = sm.OLS(endog = (data_oecd['ly85'] - data_oecd['ly60']),\n",
        "               exog = data_oecd[['const', 'ly60', 'ls', 'lngd', 'lschool']],\n",
        "               missing = 'drop').fit()"
      ]
    },
    {
      "cell_type": "code",
      "execution_count": null,
      "metadata": {
        "id": "9xacKIrK2FDa",
        "outputId": "fd7afcb2-6638-4e88-d697-8e6a84007ff7"
      },
      "outputs": [
        {
          "name": "stdout",
          "output_type": "stream",
          "text": [
            "         Tests for Conditional Convergence\n",
            "===================================================\n",
            "                 Non-Oil   Intermediate     OECD   \n",
            "---------------------------------------------------\n",
            "const          1.91938**   2.24968**    2.14036*   \n",
            "               (0.83367)   (0.85472)    (1.18068)  \n",
            "ly60           -0.14090*** -0.22783***  -0.34991***\n",
            "               (0.05202)   (0.05725)    (0.06574)  \n",
            "ls             0.64724***  0.64587***   0.39010**  \n",
            "               (0.08670)   (0.10392)    (0.17612)  \n",
            "lngd           -0.30235    -0.45746     -0.76624** \n",
            "               (0.30438)   (0.30743)    (0.34523)  \n",
            "R-squared      0.40187     0.37882      0.67668    \n",
            "R-squared Adj. 0.38278     0.35258      0.62279    \n",
            "R^2            0.3828      0.3526       0.6228     \n",
            "N              98.0000     75.0000      22.0000    \n",
            "s.e.e.         0.3507      0.3258       0.1529     \n",
            "Implied λ      0.00607     0.01034      0.01723    \n",
            "===================================================\n",
            "Standard errors in parentheses.\n",
            "* p<.1, ** p<.05, ***p<.01\n",
            " \n",
            "         Tests for Conditional Convergence\n",
            "===================================================\n",
            "                 Non-Oil   Intermediate     OECD   \n",
            "---------------------------------------------------\n",
            "const          1.95719**   2.46351***   1.70676    \n",
            "               (0.77744)   (0.80116)    (1.16846)  \n",
            "ly60           -0.28837*** -0.36599***  -0.39769***\n",
            "               (0.06158)   (0.06743)    (0.07016)  \n",
            "ls             0.52374***  0.53756***   0.33179*   \n",
            "               (0.08687)   (0.10229)    (0.17338)  \n",
            "lngd           -0.50566*   -0.54499*    -0.86341** \n",
            "               (0.28861)   (0.28843)    (0.33770)  \n",
            "lschool        0.23112***  0.27045***   0.22770    \n",
            "               (0.05946)   (0.08037)    (0.14501)  \n",
            "R-squared      0.48545     0.46531      0.71763    \n",
            "R-squared Adj. 0.46332     0.43476      0.65119    \n",
            "R^2            0.4633      0.4348       0.6512     \n",
            "N              98.0000     75.0000      22.0000    \n",
            "s.e.e.         0.3270      0.3044       0.1470     \n",
            "Implied λ      0.01361     0.01823      0.02028    \n",
            "===================================================\n",
            "Standard errors in parentheses.\n",
            "* p<.1, ** p<.05, ***p<.01\n"
          ]
        }
      ],
      "source": [
        "info_dictroc2 = {'R^2': lambda x: x.rsquared_adj,\n",
        "            'N': lambda x: x.nobs,\n",
        "            's.e.e.': lambda x: np.sqrt(x.scale),\n",
        "            'Implied λ': lambda x: f\"{-np.log(x.params[1] + 1)/25:.5f}\"}\n",
        "\n",
        "table_roc2 = summary_col(results = [regcon4, regcon5, regcon6],\n",
        "                           float_format='%0.5f',\n",
        "                           stars = True,\n",
        "                           model_names = ['Non-Oil',\n",
        "                                         'Intermediate',\n",
        "                                         'OECD'],\n",
        "                           info_dict = info_dictroc,\n",
        "                           regressor_order = ['const',\n",
        "                                             'ly60',\n",
        "                                             'ls',\n",
        "                                             'lngd'])\n",
        "\n",
        "\n",
        "table_roc3 = summary_col(results = [regcon7, regcon8, regcon9],\n",
        "                           float_format='%0.5f',\n",
        "                           stars = True,\n",
        "                           model_names = ['Non-Oil',\n",
        "                                         'Intermediate',\n",
        "                                         'OECD'],\n",
        "                           info_dict = info_dictroc,\n",
        "                           regressor_order = ['const',\n",
        "                                             'ly60',\n",
        "                                             'ls',\n",
        "                                             'lngd',\n",
        "                                             'lschool'])\n",
        "\n",
        "table_roc2.add_title('Tests for Conditional Convergence')\n",
        "table_roc3.add_title('Tests for Conditional Convergence')\n",
        "print(table_roc2)\n",
        "print(\" \")\n",
        "print(table_roc3)"
      ]
    },
    {
      "cell_type": "code",
      "execution_count": null,
      "metadata": {
        "id": "tiVA-zUR2FDa"
      },
      "outputs": [],
      "source": [
        "regconr1 = sm.OLS(endog = (data_reg['ly85'] - data_reg['ly60']),\n",
        "               exog = data_reg[['const', 'ly60', 'ls_lngd', 'lsch_ngd']],\n",
        "               missing = 'drop').fit()\n",
        "\n",
        "regconr2 = sm.OLS(endog = (data_d['ly85'] - data_d['ly60']),\n",
        "               exog = data_d[['const', 'ly60', 'ls_lngd', 'lsch_ngd']],\n",
        "               missing = 'drop').fit()\n",
        "\n",
        "regconr3 = sm.OLS(endog = (data_oecd['ly85'] - data_oecd['ly60']),\n",
        "               exog = data_oecd[['const', 'ly60', 'ls_lngd', 'lsch_ngd']],\n",
        "               missing = 'drop').fit()"
      ]
    },
    {
      "cell_type": "markdown",
      "metadata": {
        "id": "NgcMhOBu2FDa"
      },
      "source": [
        "Replicating Figure 1"
      ]
    },
    {
      "cell_type": "code",
      "execution_count": null,
      "metadata": {
        "id": "STckG-ld2FDb",
        "outputId": "f008ea9c-59e5-40f0-e135-34394d7c2f1d"
      },
      "outputs": [
        {
          "name": "stdout",
          "output_type": "stream",
          "text": [
            "         Rate of Convergence - Restricted\n",
            "===================================================\n",
            "                 Non-Oil   Intermediate     OECD   \n",
            "---------------------------------------------------\n",
            "const          1.37384***  1.86679***   2.44270*** \n",
            "               (0.33571)   (0.36760)    (0.69118)  \n",
            "ly60           -0.29790*** -0.37236***  -0.40221***\n",
            "               (0.06041)   (0.06687)    (0.06918)  \n",
            "ls_lngd        0.50067***  0.50635***   0.39532**  \n",
            "               (0.08219)   (0.09508)    (0.15174)  \n",
            "lsch_ngd       0.23519***  0.26569***   0.24125    \n",
            "               (0.05916)   (0.08000)    (0.14244)  \n",
            "R-squared      0.48162     0.45994      0.70738    \n",
            "R-squared Adj. 0.46508     0.43712      0.65861    \n",
            "R^2            0.4651      0.4371       0.6586     \n",
            "N              98.0000     75.0000      22.0000    \n",
            "s.e.e.         0.3265      0.3038       0.1454     \n",
            "Implied λ      0.01415     0.01863      0.02058    \n",
            "===================================================\n",
            "Standard errors in parentheses.\n",
            "* p<.1, ** p<.05, ***p<.01\n"
          ]
        }
      ],
      "source": [
        "info_dictrocr = {'R^2': lambda x: x.rsquared_adj,\n",
        "            'N': lambda x: x.nobs,\n",
        "            's.e.e.': lambda x: np.sqrt(x.scale),\n",
        "            'Implied λ': lambda x: f\"{-np.log(x.params[1] + 1)/25:.5f}\"}\n",
        "table_rocr = summary_col(results = [regconr1, regconr2, regconr3],\n",
        "                           float_format='%0.5f',\n",
        "                           stars = True,\n",
        "                           model_names = ['Non-Oil',\n",
        "                                         'Intermediate',\n",
        "                                         'OECD'],\n",
        "                           info_dict = info_dictroc,\n",
        "                           regressor_order = ['const',\n",
        "                                             'ly60',\n",
        "                                             'ls_lngd', \n",
        "                                              'lsch_ngd'])\n",
        "\n",
        "table_rocr.add_title('Rate of Convergence - Restricted')\n",
        "print(table_rocr)"
      ]
    },
    {
      "cell_type": "markdown",
      "metadata": {
        "id": "AIIGrdbI2FDb"
      },
      "source": [
        "## Replicating plots\n",
        "\n",
        "First we carry out some regressions for panel B and C to get out the residuals we need"
      ]
    },
    {
      "cell_type": "code",
      "execution_count": null,
      "metadata": {
        "id": "_ScjwBDb2FDb"
      },
      "outputs": [],
      "source": [
        "reg_plt2 = sm.OLS(data_d['ly60'],\n",
        "                 data_d[['lngd', 'linv']],\n",
        "                 missing = 'drop').fit()\n",
        "residly601 = reg_plt2.resid\n",
        "\n",
        "reg_plt3 = sm.OLS(data_d['ly85'] - data_d['ly60'],\n",
        "                 data_d[['lngd', 'linv']],\n",
        "                 missing = 'drop').fit()\n",
        "residgr1 = reg_plt3.resid\n",
        "\n",
        "\n",
        "\n",
        "\n",
        "reg_plt4 = sm.OLS(data_d['ly60'],\n",
        "                 data_d[['lngd', 'linv', 'lschool']],\n",
        "                 missing = 'drop').fit()\n",
        "residly602 = reg_plt4.resid\n",
        "\n",
        "reg_plt5 = sm.OLS(data_d['ly85'] - data_d['ly60'],\n",
        "                 data_d[['lngd', 'linv', 'lschool']],\n",
        "                 missing = 'drop').fit()\n",
        "residgr2 = reg_plt5.resid\n",
        "\n"
      ]
    },
    {
      "cell_type": "code",
      "execution_count": null,
      "metadata": {
        "scrolled": true,
        "id": "GoB6_kNU2FDb",
        "outputId": "a1206735-f1e2-4b5b-ccad-b0933299a4fb"
      },
      "outputs": [
        {
          "data": {
            "image/png": "[encoded data removed]",
            "text/plain": [
              "<Figure size 720x864 with 3 Axes>"
            ]
          },
          "metadata": {
            "needs_background": "light"
          },
          "output_type": "display_data"
        }
      ],
      "source": [
        "fig, ax = plt.subplots(3, 1, sharex = 'col', figsize = (10, 12))\n",
        "ax[0].scatter(data_d['ly60'], (data_d['ly85'] - data_d['ly60'])*100/25)\n",
        "ax[0].set_xlabel('Log GDP Per Worker in 1960')\n",
        "ax[0].set_ylabel('Growth Rate: 1960 - 1985')\n",
        "ax[0].set_title('Unconditional')\n",
        "\n",
        "\n",
        "ax[1].scatter(residly601 + np.mean(data_d['ly60']), \n",
        "           (residgr1 + np.mean(data_d['ly85'] - data_d['ly60']))*100/25)\n",
        "ax[1].set_xlabel('Log GDP Per Worker in 1960')\n",
        "ax[1].set_ylabel('Growth Rate: 1960 - 1985')\n",
        "ax[1].set_title('Conditional on saving and population growth')\n",
        "\n",
        "\n",
        "ax[2].scatter(residly602 + np.mean(data_d['ly60']), \n",
        "           (residgr2 + np.mean(data_d['ly85'] - data_d['ly60']))*100/25)\n",
        "ax[2].set_xlabel('Log GDP Per Worker in 1960')\n",
        "ax[2].set_ylabel('Growth Rate: 1960 - 1985')\n",
        "ax[2].set_title('Conditional on human capital, saving and population growth')\n",
        "plt.show()"
      ]
    },
    {
      "cell_type": "markdown",
      "metadata": {
        "id": "b6IR7T9d2FDb"
      },
      "source": [
        "# Thanks You"
      ]
    }
  ],
  "metadata": {
    "kernelspec": {
      "display_name": "Python 3 (ipykernel)",
      "language": "python",
      "name": "python3"
    },
    "language_info": {
      "codemirror_mode": {
        "name": "ipython",
        "version": 3
      },
      "file_extension": ".py",
      "mimetype": "text/x-python",
      "name": "python",
      "nbconvert_exporter": "python",
      "pygments_lexer": "ipython3",
      "version": "3.8.8"
    },
    "colab": {
      "provenance": [],
      "include_colab_link": true
    }
  },
  "nbformat": 4,
  "nbformat_minor": 0
}